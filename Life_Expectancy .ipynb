{
 "cells": [
  {
   "cell_type": "markdown",
   "id": "85432eda",
   "metadata": {},
   "source": [
    "Employment and Wages Data Viewer - https://data.bls.gov/cew/apps/data_views/data_views.htm#tab=Tables <br>\n",
    "\n",
    "Data File Documentation Guide    - https://www.bls.gov/cew/about-data/documentation-guide.htm <br>\n",
    "\n",
    " https://www.bls.gov/cew/about-data/downloadable-file-layouts/annual/naics-based-annual-layout.htm <br>"
   ]
  },
  {
   "cell_type": "markdown",
   "id": "7d4ecd4d",
   "metadata": {},
   "source": [
    "* 36005 - Bronx County, New York\n",
    "* 36047 - Kings County, New York\n",
    "* 36061 - New York County, New York\n",
    "* 36081 - Queens County, New York\n",
    "* 36085 - Richmond County, New York"
   ]
  },
  {
   "cell_type": "markdown",
   "id": "1995fe80",
   "metadata": {},
   "source": [
    "Importing Libraries"
   ]
  },
  {
   "cell_type": "code",
   "execution_count": 2,
   "id": "d7dea68a",
   "metadata": {},
   "outputs": [],
   "source": [
    "import seaborn as sns\n",
    "import matplotlib.pyplot as plt\n",
    "import pandas as pd"
   ]
  },
  {
   "cell_type": "markdown",
   "id": "736120ad",
   "metadata": {},
   "source": [
    "Merging csv files"
   ]
  },
  {
   "cell_type": "code",
   "execution_count": 348,
   "id": "7adc15dd",
   "metadata": {},
   "outputs": [],
   "source": [
    "Employment_Wages = pd.concat(\n",
    "    map(pd.read_csv, ['Bronx_County_2022.csv','New_York_County_2022.csv','Queens_County_2022.csv','Richmond_County_2022.csv','Kings_County_2022.csv']), ignore_index=True)\n",
    "\n",
    "#'New_York_County_2021.csv','Queens_County_2021.csv','Richmond_County_2021.csv','Kings_County_2021.csv'\n"
   ]
  },
  {
   "cell_type": "markdown",
   "id": "69057c12",
   "metadata": {},
   "source": [
    "Display the last 10 rows of the dataset"
   ]
  },
  {
   "cell_type": "code",
   "execution_count": 349,
   "id": "7165f102",
   "metadata": {},
   "outputs": [
    {
     "data": {
      "text/html": [
       "<div>\n",
       "<style scoped>\n",
       "    .dataframe tbody tr th:only-of-type {\n",
       "        vertical-align: middle;\n",
       "    }\n",
       "\n",
       "    .dataframe tbody tr th {\n",
       "        vertical-align: top;\n",
       "    }\n",
       "\n",
       "    .dataframe thead th {\n",
       "        text-align: right;\n",
       "    }\n",
       "</style>\n",
       "<table border=\"1\" class=\"dataframe\">\n",
       "  <thead>\n",
       "    <tr style=\"text-align: right;\">\n",
       "      <th></th>\n",
       "      <th>area_fips</th>\n",
       "      <th>own_code</th>\n",
       "      <th>industry_code</th>\n",
       "      <th>agglvl_code</th>\n",
       "      <th>size_code</th>\n",
       "      <th>year</th>\n",
       "      <th>qtr</th>\n",
       "      <th>disclosure_code</th>\n",
       "      <th>annual_avg_estabs</th>\n",
       "      <th>annual_avg_emplvl</th>\n",
       "      <th>...</th>\n",
       "      <th>oty_total_annual_wages_chg</th>\n",
       "      <th>oty_total_annual_wages_pct_chg</th>\n",
       "      <th>oty_taxable_annual_wages_chg</th>\n",
       "      <th>oty_taxable_annual_wages_pct_chg</th>\n",
       "      <th>oty_annual_contributions_chg</th>\n",
       "      <th>oty_annual_contributions_pct_chg</th>\n",
       "      <th>oty_annual_avg_wkly_wage_chg</th>\n",
       "      <th>oty_annual_avg_wkly_wage_pct_chg</th>\n",
       "      <th>oty_avg_annual_pay_chg</th>\n",
       "      <th>oty_avg_annual_pay_pct_chg</th>\n",
       "    </tr>\n",
       "  </thead>\n",
       "  <tbody>\n",
       "    <tr>\n",
       "      <th>0</th>\n",
       "      <td>36005</td>\n",
       "      <td>0</td>\n",
       "      <td>10</td>\n",
       "      <td>70</td>\n",
       "      <td>0</td>\n",
       "      <td>2022</td>\n",
       "      <td>A</td>\n",
       "      <td>NaN</td>\n",
       "      <td>20027</td>\n",
       "      <td>313944</td>\n",
       "      <td>...</td>\n",
       "      <td>1011079822</td>\n",
       "      <td>5.1</td>\n",
       "      <td>158113436</td>\n",
       "      <td>6.4</td>\n",
       "      <td>-14238863</td>\n",
       "      <td>-15.9</td>\n",
       "      <td>29</td>\n",
       "      <td>2.3</td>\n",
       "      <td>1496</td>\n",
       "      <td>2.3</td>\n",
       "    </tr>\n",
       "    <tr>\n",
       "      <th>1</th>\n",
       "      <td>36005</td>\n",
       "      <td>1</td>\n",
       "      <td>10</td>\n",
       "      <td>71</td>\n",
       "      <td>0</td>\n",
       "      <td>2022</td>\n",
       "      <td>A</td>\n",
       "      <td>NaN</td>\n",
       "      <td>65</td>\n",
       "      <td>3894</td>\n",
       "      <td>...</td>\n",
       "      <td>5174184</td>\n",
       "      <td>1.5</td>\n",
       "      <td>0</td>\n",
       "      <td>0.0</td>\n",
       "      <td>0</td>\n",
       "      <td>0.0</td>\n",
       "      <td>3</td>\n",
       "      <td>0.2</td>\n",
       "      <td>177</td>\n",
       "      <td>0.2</td>\n",
       "    </tr>\n",
       "    <tr>\n",
       "      <th>2</th>\n",
       "      <td>36005</td>\n",
       "      <td>1</td>\n",
       "      <td>102</td>\n",
       "      <td>72</td>\n",
       "      <td>0</td>\n",
       "      <td>2022</td>\n",
       "      <td>A</td>\n",
       "      <td>NaN</td>\n",
       "      <td>65</td>\n",
       "      <td>3894</td>\n",
       "      <td>...</td>\n",
       "      <td>5174184</td>\n",
       "      <td>1.5</td>\n",
       "      <td>0</td>\n",
       "      <td>0.0</td>\n",
       "      <td>0</td>\n",
       "      <td>0.0</td>\n",
       "      <td>3</td>\n",
       "      <td>0.2</td>\n",
       "      <td>177</td>\n",
       "      <td>0.2</td>\n",
       "    </tr>\n",
       "    <tr>\n",
       "      <th>3</th>\n",
       "      <td>36005</td>\n",
       "      <td>1</td>\n",
       "      <td>1021</td>\n",
       "      <td>73</td>\n",
       "      <td>0</td>\n",
       "      <td>2022</td>\n",
       "      <td>A</td>\n",
       "      <td>NaN</td>\n",
       "      <td>46</td>\n",
       "      <td>1544</td>\n",
       "      <td>...</td>\n",
       "      <td>-7904405</td>\n",
       "      <td>-7.0</td>\n",
       "      <td>0</td>\n",
       "      <td>0.0</td>\n",
       "      <td>0</td>\n",
       "      <td>0.0</td>\n",
       "      <td>-150</td>\n",
       "      <td>-10.3</td>\n",
       "      <td>-7815</td>\n",
       "      <td>-10.3</td>\n",
       "    </tr>\n",
       "    <tr>\n",
       "      <th>4</th>\n",
       "      <td>36005</td>\n",
       "      <td>1</td>\n",
       "      <td>1024</td>\n",
       "      <td>73</td>\n",
       "      <td>0</td>\n",
       "      <td>2022</td>\n",
       "      <td>A</td>\n",
       "      <td>NaN</td>\n",
       "      <td>1</td>\n",
       "      <td>5</td>\n",
       "      <td>...</td>\n",
       "      <td>145122</td>\n",
       "      <td>23.3</td>\n",
       "      <td>0</td>\n",
       "      <td>0.0</td>\n",
       "      <td>0</td>\n",
       "      <td>0.0</td>\n",
       "      <td>-40</td>\n",
       "      <td>-1.3</td>\n",
       "      <td>-2090</td>\n",
       "      <td>-1.3</td>\n",
       "    </tr>\n",
       "    <tr>\n",
       "      <th>5</th>\n",
       "      <td>36005</td>\n",
       "      <td>1</td>\n",
       "      <td>1025</td>\n",
       "      <td>73</td>\n",
       "      <td>0</td>\n",
       "      <td>2022</td>\n",
       "      <td>A</td>\n",
       "      <td>NaN</td>\n",
       "      <td>1</td>\n",
       "      <td>1896</td>\n",
       "      <td>...</td>\n",
       "      <td>10607709</td>\n",
       "      <td>5.3</td>\n",
       "      <td>0</td>\n",
       "      <td>0.0</td>\n",
       "      <td>0</td>\n",
       "      <td>0.0</td>\n",
       "      <td>109</td>\n",
       "      <td>5.4</td>\n",
       "      <td>5706</td>\n",
       "      <td>5.4</td>\n",
       "    </tr>\n",
       "    <tr>\n",
       "      <th>6</th>\n",
       "      <td>36005</td>\n",
       "      <td>1</td>\n",
       "      <td>1028</td>\n",
       "      <td>73</td>\n",
       "      <td>0</td>\n",
       "      <td>2022</td>\n",
       "      <td>A</td>\n",
       "      <td>NaN</td>\n",
       "      <td>17</td>\n",
       "      <td>449</td>\n",
       "      <td>...</td>\n",
       "      <td>2325758</td>\n",
       "      <td>5.6</td>\n",
       "      <td>0</td>\n",
       "      <td>0.0</td>\n",
       "      <td>0</td>\n",
       "      <td>0.0</td>\n",
       "      <td>120</td>\n",
       "      <td>6.8</td>\n",
       "      <td>6247</td>\n",
       "      <td>6.8</td>\n",
       "    </tr>\n",
       "    <tr>\n",
       "      <th>7</th>\n",
       "      <td>36005</td>\n",
       "      <td>1</td>\n",
       "      <td>48-49</td>\n",
       "      <td>74</td>\n",
       "      <td>0</td>\n",
       "      <td>2022</td>\n",
       "      <td>A</td>\n",
       "      <td>NaN</td>\n",
       "      <td>46</td>\n",
       "      <td>1544</td>\n",
       "      <td>...</td>\n",
       "      <td>-7904405</td>\n",
       "      <td>-7.0</td>\n",
       "      <td>0</td>\n",
       "      <td>0.0</td>\n",
       "      <td>0</td>\n",
       "      <td>0.0</td>\n",
       "      <td>-150</td>\n",
       "      <td>-10.3</td>\n",
       "      <td>-7815</td>\n",
       "      <td>-10.3</td>\n",
       "    </tr>\n",
       "    <tr>\n",
       "      <th>8</th>\n",
       "      <td>36005</td>\n",
       "      <td>1</td>\n",
       "      <td>491</td>\n",
       "      <td>75</td>\n",
       "      <td>0</td>\n",
       "      <td>2022</td>\n",
       "      <td>A</td>\n",
       "      <td>NaN</td>\n",
       "      <td>46</td>\n",
       "      <td>1544</td>\n",
       "      <td>...</td>\n",
       "      <td>-7904405</td>\n",
       "      <td>-7.0</td>\n",
       "      <td>0</td>\n",
       "      <td>0.0</td>\n",
       "      <td>0</td>\n",
       "      <td>0.0</td>\n",
       "      <td>-150</td>\n",
       "      <td>-10.3</td>\n",
       "      <td>-7815</td>\n",
       "      <td>-10.3</td>\n",
       "    </tr>\n",
       "    <tr>\n",
       "      <th>9</th>\n",
       "      <td>36005</td>\n",
       "      <td>1</td>\n",
       "      <td>4911</td>\n",
       "      <td>76</td>\n",
       "      <td>0</td>\n",
       "      <td>2022</td>\n",
       "      <td>A</td>\n",
       "      <td>NaN</td>\n",
       "      <td>46</td>\n",
       "      <td>1544</td>\n",
       "      <td>...</td>\n",
       "      <td>-7904405</td>\n",
       "      <td>-7.0</td>\n",
       "      <td>0</td>\n",
       "      <td>0.0</td>\n",
       "      <td>0</td>\n",
       "      <td>0.0</td>\n",
       "      <td>-150</td>\n",
       "      <td>-10.3</td>\n",
       "      <td>-7815</td>\n",
       "      <td>-10.3</td>\n",
       "    </tr>\n",
       "  </tbody>\n",
       "</table>\n",
       "<p>10 rows × 38 columns</p>\n",
       "</div>"
      ],
      "text/plain": [
       "   area_fips  own_code industry_code  agglvl_code  size_code  year qtr  \\\n",
       "0      36005         0            10           70          0  2022   A   \n",
       "1      36005         1            10           71          0  2022   A   \n",
       "2      36005         1           102           72          0  2022   A   \n",
       "3      36005         1          1021           73          0  2022   A   \n",
       "4      36005         1          1024           73          0  2022   A   \n",
       "5      36005         1          1025           73          0  2022   A   \n",
       "6      36005         1          1028           73          0  2022   A   \n",
       "7      36005         1         48-49           74          0  2022   A   \n",
       "8      36005         1           491           75          0  2022   A   \n",
       "9      36005         1          4911           76          0  2022   A   \n",
       "\n",
       "  disclosure_code  annual_avg_estabs  annual_avg_emplvl  ...  \\\n",
       "0             NaN              20027             313944  ...   \n",
       "1             NaN                 65               3894  ...   \n",
       "2             NaN                 65               3894  ...   \n",
       "3             NaN                 46               1544  ...   \n",
       "4             NaN                  1                  5  ...   \n",
       "5             NaN                  1               1896  ...   \n",
       "6             NaN                 17                449  ...   \n",
       "7             NaN                 46               1544  ...   \n",
       "8             NaN                 46               1544  ...   \n",
       "9             NaN                 46               1544  ...   \n",
       "\n",
       "   oty_total_annual_wages_chg  oty_total_annual_wages_pct_chg  \\\n",
       "0                  1011079822                             5.1   \n",
       "1                     5174184                             1.5   \n",
       "2                     5174184                             1.5   \n",
       "3                    -7904405                            -7.0   \n",
       "4                      145122                            23.3   \n",
       "5                    10607709                             5.3   \n",
       "6                     2325758                             5.6   \n",
       "7                    -7904405                            -7.0   \n",
       "8                    -7904405                            -7.0   \n",
       "9                    -7904405                            -7.0   \n",
       "\n",
       "   oty_taxable_annual_wages_chg  oty_taxable_annual_wages_pct_chg  \\\n",
       "0                     158113436                               6.4   \n",
       "1                             0                               0.0   \n",
       "2                             0                               0.0   \n",
       "3                             0                               0.0   \n",
       "4                             0                               0.0   \n",
       "5                             0                               0.0   \n",
       "6                             0                               0.0   \n",
       "7                             0                               0.0   \n",
       "8                             0                               0.0   \n",
       "9                             0                               0.0   \n",
       "\n",
       "   oty_annual_contributions_chg oty_annual_contributions_pct_chg  \\\n",
       "0                     -14238863                            -15.9   \n",
       "1                             0                              0.0   \n",
       "2                             0                              0.0   \n",
       "3                             0                              0.0   \n",
       "4                             0                              0.0   \n",
       "5                             0                              0.0   \n",
       "6                             0                              0.0   \n",
       "7                             0                              0.0   \n",
       "8                             0                              0.0   \n",
       "9                             0                              0.0   \n",
       "\n",
       "   oty_annual_avg_wkly_wage_chg  oty_annual_avg_wkly_wage_pct_chg  \\\n",
       "0                            29                               2.3   \n",
       "1                             3                               0.2   \n",
       "2                             3                               0.2   \n",
       "3                          -150                             -10.3   \n",
       "4                           -40                              -1.3   \n",
       "5                           109                               5.4   \n",
       "6                           120                               6.8   \n",
       "7                          -150                             -10.3   \n",
       "8                          -150                             -10.3   \n",
       "9                          -150                             -10.3   \n",
       "\n",
       "   oty_avg_annual_pay_chg  oty_avg_annual_pay_pct_chg  \n",
       "0                    1496                         2.3  \n",
       "1                     177                         0.2  \n",
       "2                     177                         0.2  \n",
       "3                   -7815                       -10.3  \n",
       "4                   -2090                        -1.3  \n",
       "5                    5706                         5.4  \n",
       "6                    6247                         6.8  \n",
       "7                   -7815                       -10.3  \n",
       "8                   -7815                       -10.3  \n",
       "9                   -7815                       -10.3  \n",
       "\n",
       "[10 rows x 38 columns]"
      ]
     },
     "execution_count": 349,
     "metadata": {},
     "output_type": "execute_result"
    }
   ],
   "source": [
    "Employment_Wages.head(10)"
   ]
  },
  {
   "cell_type": "markdown",
   "id": "2b7f1ce4",
   "metadata": {},
   "source": [
    "Getting column titles"
   ]
  },
  {
   "cell_type": "code",
   "execution_count": 350,
   "id": "a20cc1fb",
   "metadata": {},
   "outputs": [
    {
     "name": "stdout",
     "output_type": "stream",
     "text": [
      "area_fips\n",
      "own_code\n",
      "industry_code\n",
      "agglvl_code\n",
      "size_code\n",
      "year\n",
      "qtr\n",
      "disclosure_code\n",
      "annual_avg_estabs\n",
      "annual_avg_emplvl\n",
      "total_annual_wages\n",
      "taxable_annual_wages\n",
      "annual_contributions\n",
      "annual_avg_wkly_wage\n",
      "avg_annual_pay\n",
      "lq_disclosure_code\n",
      "lq_annual_avg_estabs\n",
      "lq_annual_avg_emplvl\n",
      "lq_total_annual_wages\n",
      "lq_taxable_annual_wages\n",
      "lq_annual_contributions\n",
      "lq_annual_avg_wkly_wage\n",
      "lq_avg_annual_pay\n",
      "oty_disclosure_code\n",
      "oty_annual_avg_estabs_chg\n",
      "oty_annual_avg_estabs_pct_chg\n",
      "oty_annual_avg_emplvl_chg\n",
      "oty_annual_avg_emplvl_pct_chg\n",
      "oty_total_annual_wages_chg\n",
      "oty_total_annual_wages_pct_chg\n",
      "oty_taxable_annual_wages_chg\n",
      "oty_taxable_annual_wages_pct_chg\n",
      "oty_annual_contributions_chg\n",
      "oty_annual_contributions_pct_chg\n",
      "oty_annual_avg_wkly_wage_chg\n",
      "oty_annual_avg_wkly_wage_pct_chg\n",
      "oty_avg_annual_pay_chg\n",
      "oty_avg_annual_pay_pct_chg\n"
     ]
    }
   ],
   "source": [
    "for title in Employment_Wages.columns:\n",
    "    print(title)"
   ]
  },
  {
   "cell_type": "markdown",
   "id": "322a2747",
   "metadata": {},
   "source": [
    "Getting information about columns with null value"
   ]
  },
  {
   "cell_type": "code",
   "execution_count": 351,
   "id": "a5427c22",
   "metadata": {},
   "outputs": [
    {
     "data": {
      "text/plain": [
       "area_fips                              0\n",
       "own_code                               0\n",
       "industry_code                          0\n",
       "agglvl_code                            0\n",
       "size_code                              0\n",
       "year                                   0\n",
       "qtr                                    0\n",
       "disclosure_code                     5877\n",
       "annual_avg_estabs                      0\n",
       "annual_avg_emplvl                      0\n",
       "total_annual_wages                     0\n",
       "taxable_annual_wages                   0\n",
       "annual_contributions                   0\n",
       "annual_avg_wkly_wage                   0\n",
       "avg_annual_pay                         0\n",
       "lq_disclosure_code                  5877\n",
       "lq_annual_avg_estabs                   0\n",
       "lq_annual_avg_emplvl                   0\n",
       "lq_total_annual_wages                  0\n",
       "lq_taxable_annual_wages                0\n",
       "lq_annual_contributions                0\n",
       "lq_annual_avg_wkly_wage                0\n",
       "lq_avg_annual_pay                      0\n",
       "oty_disclosure_code                 4934\n",
       "oty_annual_avg_estabs_chg              0\n",
       "oty_annual_avg_estabs_pct_chg          0\n",
       "oty_annual_avg_emplvl_chg              0\n",
       "oty_annual_avg_emplvl_pct_chg          0\n",
       "oty_total_annual_wages_chg             0\n",
       "oty_total_annual_wages_pct_chg         0\n",
       "oty_taxable_annual_wages_chg           0\n",
       "oty_taxable_annual_wages_pct_chg       0\n",
       "oty_annual_contributions_chg           0\n",
       "oty_annual_contributions_pct_chg       0\n",
       "oty_annual_avg_wkly_wage_chg           0\n",
       "oty_annual_avg_wkly_wage_pct_chg       0\n",
       "oty_avg_annual_pay_chg                 0\n",
       "oty_avg_annual_pay_pct_chg             0\n",
       "dtype: int64"
      ]
     },
     "execution_count": 351,
     "metadata": {},
     "output_type": "execute_result"
    }
   ],
   "source": [
    "Employment_Wages.isnull().sum()"
   ]
  },
  {
   "cell_type": "markdown",
   "id": "37e2c1b9",
   "metadata": {},
   "source": [
    "Getting index of the columns with a null value"
   ]
  },
  {
   "cell_type": "code",
   "execution_count": 352,
   "id": "ea02d7aa",
   "metadata": {},
   "outputs": [
    {
     "data": {
      "text/plain": [
       "array([ 7, 15, 23])"
      ]
     },
     "execution_count": 352,
     "metadata": {},
     "output_type": "execute_result"
    }
   ],
   "source": [
    "Employment_Wages.columns.get_indexer(['disclosure_code','lq_disclosure_code','oty_disclosure_code'])"
   ]
  },
  {
   "cell_type": "markdown",
   "id": "a11cc5a4",
   "metadata": {},
   "source": [
    "Removing columns with a null value"
   ]
  },
  {
   "cell_type": "code",
   "execution_count": 353,
   "id": "c99130da",
   "metadata": {},
   "outputs": [],
   "source": [
    "Employment_Wages.drop(Employment_Wages.columns[[7, 15, 23]], axis=1, inplace=True)"
   ]
  },
  {
   "cell_type": "markdown",
   "id": "0f3eea48",
   "metadata": {},
   "source": [
    "Column 'industry_code' raw with value  '10' was the Total of  all industries I decided to remove totals and keep the breakdown of each industry's information  "
   ]
  },
  {
   "cell_type": "code",
   "execution_count": 354,
   "id": "e65a5e31",
   "metadata": {},
   "outputs": [],
   "source": [
    "Employment_Wages=Employment_Wages.drop(Employment_Wages[Employment_Wages['industry_code']=='10'].index)"
   ]
  },
  {
   "cell_type": "markdown",
   "id": "64efcd7f",
   "metadata": {},
   "source": [
    "Display the last 10 rows of the dataset"
   ]
  },
  {
   "cell_type": "code",
   "execution_count": 356,
   "id": "76616b12",
   "metadata": {},
   "outputs": [
    {
     "data": {
      "text/html": [
       "<div>\n",
       "<style scoped>\n",
       "    .dataframe tbody tr th:only-of-type {\n",
       "        vertical-align: middle;\n",
       "    }\n",
       "\n",
       "    .dataframe tbody tr th {\n",
       "        vertical-align: top;\n",
       "    }\n",
       "\n",
       "    .dataframe thead th {\n",
       "        text-align: right;\n",
       "    }\n",
       "</style>\n",
       "<table border=\"1\" class=\"dataframe\">\n",
       "  <thead>\n",
       "    <tr style=\"text-align: right;\">\n",
       "      <th></th>\n",
       "      <th>area_fips</th>\n",
       "      <th>own_code</th>\n",
       "      <th>industry_code</th>\n",
       "      <th>agglvl_code</th>\n",
       "      <th>size_code</th>\n",
       "      <th>year</th>\n",
       "      <th>qtr</th>\n",
       "      <th>annual_avg_estabs</th>\n",
       "      <th>annual_avg_emplvl</th>\n",
       "      <th>total_annual_wages</th>\n",
       "      <th>...</th>\n",
       "      <th>oty_total_annual_wages_chg</th>\n",
       "      <th>oty_total_annual_wages_pct_chg</th>\n",
       "      <th>oty_taxable_annual_wages_chg</th>\n",
       "      <th>oty_taxable_annual_wages_pct_chg</th>\n",
       "      <th>oty_annual_contributions_chg</th>\n",
       "      <th>oty_annual_contributions_pct_chg</th>\n",
       "      <th>oty_annual_avg_wkly_wage_chg</th>\n",
       "      <th>oty_annual_avg_wkly_wage_pct_chg</th>\n",
       "      <th>oty_avg_annual_pay_chg</th>\n",
       "      <th>oty_avg_annual_pay_pct_chg</th>\n",
       "    </tr>\n",
       "  </thead>\n",
       "  <tbody>\n",
       "    <tr>\n",
       "      <th>2</th>\n",
       "      <td>36005</td>\n",
       "      <td>1</td>\n",
       "      <td>102</td>\n",
       "      <td>72</td>\n",
       "      <td>0</td>\n",
       "      <td>2022</td>\n",
       "      <td>A</td>\n",
       "      <td>65</td>\n",
       "      <td>3894</td>\n",
       "      <td>360809141</td>\n",
       "      <td>...</td>\n",
       "      <td>5174184</td>\n",
       "      <td>1.5</td>\n",
       "      <td>0</td>\n",
       "      <td>0.0</td>\n",
       "      <td>0</td>\n",
       "      <td>0.0</td>\n",
       "      <td>3</td>\n",
       "      <td>0.2</td>\n",
       "      <td>177</td>\n",
       "      <td>0.2</td>\n",
       "    </tr>\n",
       "    <tr>\n",
       "      <th>3</th>\n",
       "      <td>36005</td>\n",
       "      <td>1</td>\n",
       "      <td>1021</td>\n",
       "      <td>73</td>\n",
       "      <td>0</td>\n",
       "      <td>2022</td>\n",
       "      <td>A</td>\n",
       "      <td>46</td>\n",
       "      <td>1544</td>\n",
       "      <td>105267296</td>\n",
       "      <td>...</td>\n",
       "      <td>-7904405</td>\n",
       "      <td>-7.0</td>\n",
       "      <td>0</td>\n",
       "      <td>0.0</td>\n",
       "      <td>0</td>\n",
       "      <td>0.0</td>\n",
       "      <td>-150</td>\n",
       "      <td>-10.3</td>\n",
       "      <td>-7815</td>\n",
       "      <td>-10.3</td>\n",
       "    </tr>\n",
       "    <tr>\n",
       "      <th>4</th>\n",
       "      <td>36005</td>\n",
       "      <td>1</td>\n",
       "      <td>1024</td>\n",
       "      <td>73</td>\n",
       "      <td>0</td>\n",
       "      <td>2022</td>\n",
       "      <td>A</td>\n",
       "      <td>1</td>\n",
       "      <td>5</td>\n",
       "      <td>767414</td>\n",
       "      <td>...</td>\n",
       "      <td>145122</td>\n",
       "      <td>23.3</td>\n",
       "      <td>0</td>\n",
       "      <td>0.0</td>\n",
       "      <td>0</td>\n",
       "      <td>0.0</td>\n",
       "      <td>-40</td>\n",
       "      <td>-1.3</td>\n",
       "      <td>-2090</td>\n",
       "      <td>-1.3</td>\n",
       "    </tr>\n",
       "    <tr>\n",
       "      <th>5</th>\n",
       "      <td>36005</td>\n",
       "      <td>1</td>\n",
       "      <td>1025</td>\n",
       "      <td>73</td>\n",
       "      <td>0</td>\n",
       "      <td>2022</td>\n",
       "      <td>A</td>\n",
       "      <td>1</td>\n",
       "      <td>1896</td>\n",
       "      <td>210914977</td>\n",
       "      <td>...</td>\n",
       "      <td>10607709</td>\n",
       "      <td>5.3</td>\n",
       "      <td>0</td>\n",
       "      <td>0.0</td>\n",
       "      <td>0</td>\n",
       "      <td>0.0</td>\n",
       "      <td>109</td>\n",
       "      <td>5.4</td>\n",
       "      <td>5706</td>\n",
       "      <td>5.4</td>\n",
       "    </tr>\n",
       "    <tr>\n",
       "      <th>6</th>\n",
       "      <td>36005</td>\n",
       "      <td>1</td>\n",
       "      <td>1028</td>\n",
       "      <td>73</td>\n",
       "      <td>0</td>\n",
       "      <td>2022</td>\n",
       "      <td>A</td>\n",
       "      <td>17</td>\n",
       "      <td>449</td>\n",
       "      <td>43859454</td>\n",
       "      <td>...</td>\n",
       "      <td>2325758</td>\n",
       "      <td>5.6</td>\n",
       "      <td>0</td>\n",
       "      <td>0.0</td>\n",
       "      <td>0</td>\n",
       "      <td>0.0</td>\n",
       "      <td>120</td>\n",
       "      <td>6.8</td>\n",
       "      <td>6247</td>\n",
       "      <td>6.8</td>\n",
       "    </tr>\n",
       "    <tr>\n",
       "      <th>7</th>\n",
       "      <td>36005</td>\n",
       "      <td>1</td>\n",
       "      <td>48-49</td>\n",
       "      <td>74</td>\n",
       "      <td>0</td>\n",
       "      <td>2022</td>\n",
       "      <td>A</td>\n",
       "      <td>46</td>\n",
       "      <td>1544</td>\n",
       "      <td>105267296</td>\n",
       "      <td>...</td>\n",
       "      <td>-7904405</td>\n",
       "      <td>-7.0</td>\n",
       "      <td>0</td>\n",
       "      <td>0.0</td>\n",
       "      <td>0</td>\n",
       "      <td>0.0</td>\n",
       "      <td>-150</td>\n",
       "      <td>-10.3</td>\n",
       "      <td>-7815</td>\n",
       "      <td>-10.3</td>\n",
       "    </tr>\n",
       "    <tr>\n",
       "      <th>8</th>\n",
       "      <td>36005</td>\n",
       "      <td>1</td>\n",
       "      <td>491</td>\n",
       "      <td>75</td>\n",
       "      <td>0</td>\n",
       "      <td>2022</td>\n",
       "      <td>A</td>\n",
       "      <td>46</td>\n",
       "      <td>1544</td>\n",
       "      <td>105267296</td>\n",
       "      <td>...</td>\n",
       "      <td>-7904405</td>\n",
       "      <td>-7.0</td>\n",
       "      <td>0</td>\n",
       "      <td>0.0</td>\n",
       "      <td>0</td>\n",
       "      <td>0.0</td>\n",
       "      <td>-150</td>\n",
       "      <td>-10.3</td>\n",
       "      <td>-7815</td>\n",
       "      <td>-10.3</td>\n",
       "    </tr>\n",
       "    <tr>\n",
       "      <th>9</th>\n",
       "      <td>36005</td>\n",
       "      <td>1</td>\n",
       "      <td>4911</td>\n",
       "      <td>76</td>\n",
       "      <td>0</td>\n",
       "      <td>2022</td>\n",
       "      <td>A</td>\n",
       "      <td>46</td>\n",
       "      <td>1544</td>\n",
       "      <td>105267296</td>\n",
       "      <td>...</td>\n",
       "      <td>-7904405</td>\n",
       "      <td>-7.0</td>\n",
       "      <td>0</td>\n",
       "      <td>0.0</td>\n",
       "      <td>0</td>\n",
       "      <td>0.0</td>\n",
       "      <td>-150</td>\n",
       "      <td>-10.3</td>\n",
       "      <td>-7815</td>\n",
       "      <td>-10.3</td>\n",
       "    </tr>\n",
       "    <tr>\n",
       "      <th>10</th>\n",
       "      <td>36005</td>\n",
       "      <td>1</td>\n",
       "      <td>49111</td>\n",
       "      <td>77</td>\n",
       "      <td>0</td>\n",
       "      <td>2022</td>\n",
       "      <td>A</td>\n",
       "      <td>46</td>\n",
       "      <td>1544</td>\n",
       "      <td>105267296</td>\n",
       "      <td>...</td>\n",
       "      <td>-7904405</td>\n",
       "      <td>-7.0</td>\n",
       "      <td>0</td>\n",
       "      <td>0.0</td>\n",
       "      <td>0</td>\n",
       "      <td>0.0</td>\n",
       "      <td>-150</td>\n",
       "      <td>-10.3</td>\n",
       "      <td>-7815</td>\n",
       "      <td>-10.3</td>\n",
       "    </tr>\n",
       "    <tr>\n",
       "      <th>11</th>\n",
       "      <td>36005</td>\n",
       "      <td>1</td>\n",
       "      <td>491110</td>\n",
       "      <td>78</td>\n",
       "      <td>0</td>\n",
       "      <td>2022</td>\n",
       "      <td>A</td>\n",
       "      <td>46</td>\n",
       "      <td>1544</td>\n",
       "      <td>105267296</td>\n",
       "      <td>...</td>\n",
       "      <td>-7904405</td>\n",
       "      <td>-7.0</td>\n",
       "      <td>0</td>\n",
       "      <td>0.0</td>\n",
       "      <td>0</td>\n",
       "      <td>0.0</td>\n",
       "      <td>-150</td>\n",
       "      <td>-10.3</td>\n",
       "      <td>-7815</td>\n",
       "      <td>-10.3</td>\n",
       "    </tr>\n",
       "  </tbody>\n",
       "</table>\n",
       "<p>10 rows × 35 columns</p>\n",
       "</div>"
      ],
      "text/plain": [
       "    area_fips  own_code industry_code  agglvl_code  size_code  year qtr  \\\n",
       "2       36005         1           102           72          0  2022   A   \n",
       "3       36005         1          1021           73          0  2022   A   \n",
       "4       36005         1          1024           73          0  2022   A   \n",
       "5       36005         1          1025           73          0  2022   A   \n",
       "6       36005         1          1028           73          0  2022   A   \n",
       "7       36005         1         48-49           74          0  2022   A   \n",
       "8       36005         1           491           75          0  2022   A   \n",
       "9       36005         1          4911           76          0  2022   A   \n",
       "10      36005         1         49111           77          0  2022   A   \n",
       "11      36005         1        491110           78          0  2022   A   \n",
       "\n",
       "    annual_avg_estabs  annual_avg_emplvl  total_annual_wages  ...  \\\n",
       "2                  65               3894           360809141  ...   \n",
       "3                  46               1544           105267296  ...   \n",
       "4                   1                  5              767414  ...   \n",
       "5                   1               1896           210914977  ...   \n",
       "6                  17                449            43859454  ...   \n",
       "7                  46               1544           105267296  ...   \n",
       "8                  46               1544           105267296  ...   \n",
       "9                  46               1544           105267296  ...   \n",
       "10                 46               1544           105267296  ...   \n",
       "11                 46               1544           105267296  ...   \n",
       "\n",
       "    oty_total_annual_wages_chg  oty_total_annual_wages_pct_chg  \\\n",
       "2                      5174184                             1.5   \n",
       "3                     -7904405                            -7.0   \n",
       "4                       145122                            23.3   \n",
       "5                     10607709                             5.3   \n",
       "6                      2325758                             5.6   \n",
       "7                     -7904405                            -7.0   \n",
       "8                     -7904405                            -7.0   \n",
       "9                     -7904405                            -7.0   \n",
       "10                    -7904405                            -7.0   \n",
       "11                    -7904405                            -7.0   \n",
       "\n",
       "    oty_taxable_annual_wages_chg  oty_taxable_annual_wages_pct_chg  \\\n",
       "2                              0                               0.0   \n",
       "3                              0                               0.0   \n",
       "4                              0                               0.0   \n",
       "5                              0                               0.0   \n",
       "6                              0                               0.0   \n",
       "7                              0                               0.0   \n",
       "8                              0                               0.0   \n",
       "9                              0                               0.0   \n",
       "10                             0                               0.0   \n",
       "11                             0                               0.0   \n",
       "\n",
       "    oty_annual_contributions_chg  oty_annual_contributions_pct_chg  \\\n",
       "2                              0                               0.0   \n",
       "3                              0                               0.0   \n",
       "4                              0                               0.0   \n",
       "5                              0                               0.0   \n",
       "6                              0                               0.0   \n",
       "7                              0                               0.0   \n",
       "8                              0                               0.0   \n",
       "9                              0                               0.0   \n",
       "10                             0                               0.0   \n",
       "11                             0                               0.0   \n",
       "\n",
       "    oty_annual_avg_wkly_wage_chg  oty_annual_avg_wkly_wage_pct_chg  \\\n",
       "2                              3                               0.2   \n",
       "3                           -150                             -10.3   \n",
       "4                            -40                              -1.3   \n",
       "5                            109                               5.4   \n",
       "6                            120                               6.8   \n",
       "7                           -150                             -10.3   \n",
       "8                           -150                             -10.3   \n",
       "9                           -150                             -10.3   \n",
       "10                          -150                             -10.3   \n",
       "11                          -150                             -10.3   \n",
       "\n",
       "    oty_avg_annual_pay_chg  oty_avg_annual_pay_pct_chg  \n",
       "2                      177                         0.2  \n",
       "3                    -7815                       -10.3  \n",
       "4                    -2090                        -1.3  \n",
       "5                     5706                         5.4  \n",
       "6                     6247                         6.8  \n",
       "7                    -7815                       -10.3  \n",
       "8                    -7815                       -10.3  \n",
       "9                    -7815                       -10.3  \n",
       "10                   -7815                       -10.3  \n",
       "11                   -7815                       -10.3  \n",
       "\n",
       "[10 rows x 35 columns]"
      ]
     },
     "execution_count": 356,
     "metadata": {},
     "output_type": "execute_result"
    }
   ],
   "source": [
    "Employment_Wages.head(10)"
   ]
  },
  {
   "cell_type": "markdown",
   "id": "67cc841a",
   "metadata": {},
   "source": [
    "Plot 1: Bar plot count of Industries operating in each county \n"
   ]
  },
  {
   "cell_type": "code",
   "execution_count": 357,
   "id": "a8c9e87b",
   "metadata": {
    "scrolled": true
   },
   "outputs": [
    {
     "data": {
      "image/png": "[encoded data removed]",
      "text/plain": [
       "<Figure size 432x288 with 1 Axes>"
      ]
     },
     "metadata": {
      "needs_background": "light"
     },
     "output_type": "display_data"
    }
   ],
   "source": [
    "sns.countplot(x='area_fips', data=Employment_Wages)\n",
    "plt.title('Number of Industries Operating in Each county')\n",
    "plt.xlabel('County')\n",
    "plt.ylabel('Count')\n",
    "plt.show()"
   ]
  },
  {
   "cell_type": "markdown",
   "id": "e13b7e95",
   "metadata": {},
   "source": [
    "Plot 2: Bar plot count of Industries by Ownership Title"
   ]
  },
  {
   "cell_type": "code",
   "execution_count": 321,
   "id": "06d4420b",
   "metadata": {},
   "outputs": [
    {
     "data": {
      "image/png": "[encoded data removed]",
      "text/plain": [
       "<Figure size 432x288 with 1 Axes>"
      ]
     },
     "metadata": {
      "needs_background": "light"
     },
     "output_type": "display_data"
    }
   ],
   "source": [
    "sns.countplot(x='own_code', data=Employment_Wages)\n",
    "plt.title('Number of Industries by Ownership Title')\n",
    "plt.xlabel('County')\n",
    "plt.ylabel('Count')\n",
    "plt.show()"
   ]
  },
  {
   "cell_type": "markdown",
   "id": "98b78951",
   "metadata": {},
   "source": [
    "Plot 3: Box plot of Average Annual Pay in each county"
   ]
  },
  {
   "cell_type": "code",
   "execution_count": 283,
   "id": "3ed324d2",
   "metadata": {},
   "outputs": [
    {
     "data": {
      "image/png": "[encoded data removed]",
      "text/plain": [
       "<Figure size 432x288 with 1 Axes>"
      ]
     },
     "metadata": {
      "needs_background": "light"
     },
     "output_type": "display_data"
    }
   ],
   "source": [
    "sns.boxplot(x='area_fips', y='avg_annual_pay', data=Employment_Wages)\n",
    "plt.title('Average Annual Pay By County')\n",
    "plt.xlabel('County')\n",
    "plt.ylabel('Avg. Annual Pay')\n",
    "plt.show()"
   ]
  },
  {
   "cell_type": "markdown",
   "id": "e13b2ac5",
   "metadata": {},
   "source": [
    "Plot 4: Distribution of Average annual pay based on employment and wage levels for year 2022"
   ]
  },
  {
   "cell_type": "code",
   "execution_count": 358,
   "id": "37fb58db",
   "metadata": {},
   "outputs": [
    {
     "data": {
      "image/png": "[encoded data removed]",
      "text/plain": [
       "<Figure size 432x288 with 1 Axes>"
      ]
     },
     "metadata": {
      "needs_background": "light"
     },
     "output_type": "display_data"
    }
   ],
   "source": [
    "#a= Employment_Wages.loc[Employment_Wages['area_fips'] == 36005]\n",
    "sns.histplot(x='avg_annual_pay', data=Employment_Wages)\n",
    "plt.title('Avgerage Annual Pay')\n",
    "plt.show()"
   ]
  },
  {
   "cell_type": "code",
   "execution_count": 323,
   "id": "e0ceed5d",
   "metadata": {},
   "outputs": [
    {
     "data": {
      "text/plain": [
       "<seaborn.axisgrid.FacetGrid at 0x15da7e3a0>"
      ]
     },
     "execution_count": 323,
     "metadata": {},
     "output_type": "execute_result"
    },
    {
     "data": {
      "image/png": "[encoded data removed]",
      "text/plain": [
       "<Figure size 489.6x612 with 5 Axes>"
      ]
     },
     "metadata": {
      "needs_background": "light"
     },
     "output_type": "display_data"
    }
   ],
   "source": [
    "ordered_days = Employment_Wages.area_fips.value_counts().index\n",
    "g = sns.FacetGrid(Employment_Wages, row=\"area_fips\",\n",
    "                  height=1.7, aspect=4,)\n",
    "g.map(sns.kdeplot, \"avg_annual_pay\")"
   ]
  },
  {
   "cell_type": "markdown",
   "id": "867c43f1",
   "metadata": {},
   "source": [
    "Plot 5: Distribution of Average annual pay based on county."
   ]
  },
  {
   "cell_type": "code",
   "execution_count": 361,
   "id": "eaa0f552",
   "metadata": {},
   "outputs": [
    {
     "data": {
      "text/plain": [
       "<seaborn.axisgrid.FacetGrid at 0x15aff53d0>"
      ]
     },
     "execution_count": 361,
     "metadata": {},
     "output_type": "execute_result"
    },
    {
     "data": {
      "image/png": "[encoded data removed]",
      "text/plain": [
       "<Figure size 1080x216 with 5 Axes>"
      ]
     },
     "metadata": {
      "needs_background": "light"
     },
     "output_type": "display_data"
    }
   ],
   "source": [
    "g = sns.FacetGrid(Employment_Wages, col=\"area_fips\")\n",
    "g.map(sns.histplot, \"avg_annual_pay\")\n"
   ]
  },
  {
   "cell_type": "markdown",
   "id": "27ec6b84",
   "metadata": {},
   "source": [
    "Plot 6: Barplot of average 'Annual average annual pay for the year 2022' in each county"
   ]
  },
  {
   "cell_type": "code",
   "execution_count": 381,
   "id": "c63f9008",
   "metadata": {},
   "outputs": [
    {
     "data": {
      "image/png": "[encoded data removed]",
      "text/plain": [
       "<Figure size 432x288 with 1 Axes>"
      ]
     },
     "metadata": {
      "needs_background": "light"
     },
     "output_type": "display_data"
    }
   ],
   "source": [
    "county_annual_avg_emplvl = Employment_Wages.groupby('area_fips')['avg_annual_pay'].mean().reset_index()\n",
    "fig, ax = plt.subplots()\n",
    "ax1=sns.barplot(x=county_annual_avg_emplvl[county_annual_avg_emplvl.columns[0]],y=county_annual_avg_emplvl[county_annual_avg_emplvl.columns[1]],color='lightblue',ax=ax)\n"
   ]
  },
  {
   "cell_type": "code",
   "execution_count": 364,
   "id": "9cdb9859",
   "metadata": {},
   "outputs": [
    {
     "data": {
      "text/html": [
       "<div>\n",
       "<style scoped>\n",
       "    .dataframe tbody tr th:only-of-type {\n",
       "        vertical-align: middle;\n",
       "    }\n",
       "\n",
       "    .dataframe tbody tr th {\n",
       "        vertical-align: top;\n",
       "    }\n",
       "\n",
       "    .dataframe thead th {\n",
       "        text-align: right;\n",
       "    }\n",
       "</style>\n",
       "<table border=\"1\" class=\"dataframe\">\n",
       "  <thead>\n",
       "    <tr style=\"text-align: right;\">\n",
       "      <th></th>\n",
       "      <th>area_fips</th>\n",
       "      <th>annual_avg_emplvl</th>\n",
       "    </tr>\n",
       "  </thead>\n",
       "  <tbody>\n",
       "    <tr>\n",
       "      <th>0</th>\n",
       "      <td>36005</td>\n",
       "      <td>2064070</td>\n",
       "    </tr>\n",
       "    <tr>\n",
       "      <th>1</th>\n",
       "      <td>36047</td>\n",
       "      <td>5650713</td>\n",
       "    </tr>\n",
       "    <tr>\n",
       "      <th>2</th>\n",
       "      <td>36061</td>\n",
       "      <td>16071573</td>\n",
       "    </tr>\n",
       "    <tr>\n",
       "      <th>3</th>\n",
       "      <td>36081</td>\n",
       "      <td>4563262</td>\n",
       "    </tr>\n",
       "    <tr>\n",
       "      <th>4</th>\n",
       "      <td>36085</td>\n",
       "      <td>756159</td>\n",
       "    </tr>\n",
       "  </tbody>\n",
       "</table>\n",
       "</div>"
      ],
      "text/plain": [
       "   area_fips  annual_avg_emplvl\n",
       "0      36005            2064070\n",
       "1      36047            5650713\n",
       "2      36061           16071573\n",
       "3      36081            4563262\n",
       "4      36085             756159"
      ]
     },
     "execution_count": 364,
     "metadata": {},
     "output_type": "execute_result"
    }
   ],
   "source": [
    "county_annual_avg_emplvl = Employment_Wages.groupby('area_fips')['annual_avg_emplvl'].sum().reset_index()\n",
    "county_annual_avg_emplvl"
   ]
  },
  {
   "cell_type": "code",
   "execution_count": 366,
   "id": "035f3136",
   "metadata": {},
   "outputs": [
    {
     "data": {
      "text/html": [
       "<div>\n",
       "<style scoped>\n",
       "    .dataframe tbody tr th:only-of-type {\n",
       "        vertical-align: middle;\n",
       "    }\n",
       "\n",
       "    .dataframe tbody tr th {\n",
       "        vertical-align: top;\n",
       "    }\n",
       "\n",
       "    .dataframe thead th {\n",
       "        text-align: right;\n",
       "    }\n",
       "</style>\n",
       "<table border=\"1\" class=\"dataframe\">\n",
       "  <thead>\n",
       "    <tr style=\"text-align: right;\">\n",
       "      <th></th>\n",
       "      <th>area_fips</th>\n",
       "      <th>annual_avg_emplvl</th>\n",
       "    </tr>\n",
       "  </thead>\n",
       "  <tbody>\n",
       "    <tr>\n",
       "      <th>0</th>\n",
       "      <td>36005</td>\n",
       "      <td>1590</td>\n",
       "    </tr>\n",
       "    <tr>\n",
       "      <th>1</th>\n",
       "      <td>36047</td>\n",
       "      <td>1984</td>\n",
       "    </tr>\n",
       "    <tr>\n",
       "      <th>2</th>\n",
       "      <td>36061</td>\n",
       "      <td>1980</td>\n",
       "    </tr>\n",
       "    <tr>\n",
       "      <th>3</th>\n",
       "      <td>36081</td>\n",
       "      <td>1879</td>\n",
       "    </tr>\n",
       "    <tr>\n",
       "      <th>4</th>\n",
       "      <td>36085</td>\n",
       "      <td>1468</td>\n",
       "    </tr>\n",
       "  </tbody>\n",
       "</table>\n",
       "</div>"
      ],
      "text/plain": [
       "   area_fips  annual_avg_emplvl\n",
       "0      36005               1590\n",
       "1      36047               1984\n",
       "2      36061               1980\n",
       "3      36081               1879\n",
       "4      36085               1468"
      ]
     },
     "execution_count": 366,
     "metadata": {},
     "output_type": "execute_result"
    }
   ],
   "source": [
    "county_annual_avg_emplvl = Employment_Wages.groupby('area_fips')['annual_avg_emplvl'].count().reset_index()\n",
    "county_annual_avg_emplvl"
   ]
  },
  {
   "cell_type": "markdown",
   "id": "9f2075a8",
   "metadata": {},
   "source": [
    "Sum of Over-the-year changes in annual average employment for the year 2022\n"
   ]
  },
  {
   "cell_type": "code",
   "execution_count": 380,
   "id": "4fc368da",
   "metadata": {},
   "outputs": [
    {
     "data": {
      "text/plain": [
       "area_fips\n",
       "36061    1034155\n",
       "36047     375341\n",
       "36081     246034\n",
       "36005      54172\n",
       "36085      28783\n",
       "Name: oty_annual_avg_emplvl_chg, dtype: int64"
      ]
     },
     "execution_count": 380,
     "metadata": {},
     "output_type": "execute_result"
    }
   ],
   "source": [
    "county_oty_annual_avg_emplvl_chg= Employment_Wages.groupby('area_fips')['oty_annual_avg_emplvl_chg'].sum().sort_values(ascending=False)\n",
    "county_oty_annual_avg_emplvl_chg"
   ]
  },
  {
   "cell_type": "markdown",
   "id": "aab26117",
   "metadata": {},
   "source": [
    "Plot 7: Barplot of Annual average of monthly employment levels for 2022 with lineplot of Over-the-year change in annual average employment for 2022 in each county"
   ]
  },
  {
   "cell_type": "code",
   "execution_count": 379,
   "id": "7c26115f",
   "metadata": {},
   "outputs": [
    {
     "data": {
      "text/plain": [
       "<AxesSubplot:xlabel='area_fips', ylabel='annual_avg_emplvl'>"
      ]
     },
     "execution_count": 379,
     "metadata": {},
     "output_type": "execute_result"
    },
    {
     "data": {
      "image/png": "[encoded data removed]",
      "text/plain": [
       "<Figure size 432x288 with 1 Axes>"
      ]
     },
     "metadata": {
      "needs_background": "light"
     },
     "output_type": "display_data"
    }
   ],
   "source": [
    "county_annual_avg_emplvl = Employment_Wages.groupby('area_fips')['annual_avg_emplvl'].sum().reset_index()\n",
    "fig, ax = plt.subplots()\n",
    "ax1=sns.barplot(x=county_annual_avg_emplvl[county_annual_avg_emplvl.columns[0]],y=county_annual_avg_emplvl[county_annual_avg_emplvl.columns[1]],color='lightblue',ax=ax)\n",
    "sns.lineplot(x=['36005','36047','36061','36081','36085'],y=[54172,375341,1034155,246034,28783],color=\"black\")\n",
    "\n"
   ]
  },
  {
   "cell_type": "markdown",
   "id": "25d17657",
   "metadata": {},
   "source": [
    "Average of 'Average weekly wage based on the 12-monthly employment levels' in year 2022"
   ]
  },
  {
   "cell_type": "code",
   "execution_count": 382,
   "id": "f0dc6a17",
   "metadata": {},
   "outputs": [
    {
     "data": {
      "text/html": [
       "<div>\n",
       "<style scoped>\n",
       "    .dataframe tbody tr th:only-of-type {\n",
       "        vertical-align: middle;\n",
       "    }\n",
       "\n",
       "    .dataframe tbody tr th {\n",
       "        vertical-align: top;\n",
       "    }\n",
       "\n",
       "    .dataframe thead th {\n",
       "        text-align: right;\n",
       "    }\n",
       "</style>\n",
       "<table border=\"1\" class=\"dataframe\">\n",
       "  <thead>\n",
       "    <tr style=\"text-align: right;\">\n",
       "      <th></th>\n",
       "      <th>area_fips</th>\n",
       "      <th>annual_avg_wkly_wage</th>\n",
       "    </tr>\n",
       "  </thead>\n",
       "  <tbody>\n",
       "    <tr>\n",
       "      <th>0</th>\n",
       "      <td>36005</td>\n",
       "      <td>718.089308</td>\n",
       "    </tr>\n",
       "    <tr>\n",
       "      <th>1</th>\n",
       "      <td>36047</td>\n",
       "      <td>919.728831</td>\n",
       "    </tr>\n",
       "    <tr>\n",
       "      <th>2</th>\n",
       "      <td>36061</td>\n",
       "      <td>1622.501515</td>\n",
       "    </tr>\n",
       "    <tr>\n",
       "      <th>3</th>\n",
       "      <td>36081</td>\n",
       "      <td>918.712613</td>\n",
       "    </tr>\n",
       "    <tr>\n",
       "      <th>4</th>\n",
       "      <td>36085</td>\n",
       "      <td>680.485695</td>\n",
       "    </tr>\n",
       "  </tbody>\n",
       "</table>\n",
       "</div>"
      ],
      "text/plain": [
       "   area_fips  annual_avg_wkly_wage\n",
       "0      36005            718.089308\n",
       "1      36047            919.728831\n",
       "2      36061           1622.501515\n",
       "3      36081            918.712613\n",
       "4      36085            680.485695"
      ]
     },
     "execution_count": 382,
     "metadata": {},
     "output_type": "execute_result"
    }
   ],
   "source": [
    "count_annual_avg_wkly_wage = Employment_Wages.groupby('area_fips')['annual_avg_wkly_wage'].mean().reset_index()\n",
    "count_annual_avg_wkly_wage"
   ]
  },
  {
   "cell_type": "markdown",
   "id": "6d77a098",
   "metadata": {},
   "source": [
    "Plot 8: Histplot of Average weekly wage based on the 12-monthly employment levels in each county\n"
   ]
  },
  {
   "cell_type": "code",
   "execution_count": 371,
   "id": "9cb5a31a",
   "metadata": {},
   "outputs": [
    {
     "data": {
      "text/plain": [
       "Text(0.5, 0.98, 'Average weekly wage')"
      ]
     },
     "execution_count": 371,
     "metadata": {},
     "output_type": "execute_result"
    },
    {
     "data": {
      "image/png": "[encoded data removed]",
      "text/plain": [
       "<Figure size 1080x216 with 5 Axes>"
      ]
     },
     "metadata": {
      "needs_background": "light"
     },
     "output_type": "display_data"
    }
   ],
   "source": [
    "g = sns.FacetGrid(Employment_Wages, col=\"area_fips\")\n",
    "g.map(sns.histplot, \"annual_avg_wkly_wage\")\n",
    "g.fig.suptitle('Average weekly wage')\n"
   ]
  },
  {
   "cell_type": "markdown",
   "id": "b9a116b8",
   "metadata": {},
   "source": [
    "Plot 9: scatterplot of each county <br>\n",
    "ylabel =Average weekly wage based on the 12-monthly employment levels <br>\n",
    "xlabel = Over-the-year change in annual average weekly wage <br>\n",
    "\n"
   ]
  },
  {
   "cell_type": "code",
   "execution_count": 343,
   "id": "9f5ec920",
   "metadata": {},
   "outputs": [
    {
     "data": {
      "text/plain": [
       "<seaborn.axisgrid.FacetGrid at 0x15d35e370>"
      ]
     },
     "execution_count": 343,
     "metadata": {},
     "output_type": "execute_result"
    },
    {
     "data": {
      "image/png": "[encoded data removed]",
      "text/plain": [
       "<Figure size 1088x216 with 5 Axes>"
      ]
     },
     "metadata": {
      "needs_background": "light"
     },
     "output_type": "display_data"
    }
   ],
   "source": [
    "g = sns.FacetGrid(Employment_Wages, col=\"area_fips\")\n",
    "g.map(sns.scatterplot, \"oty_annual_avg_wkly_wage_chg\", \"annual_avg_wkly_wage\", alpha=.7)\n",
    "g.add_legend()"
   ]
  },
  {
   "cell_type": "markdown",
   "id": "23099e19",
   "metadata": {},
   "source": [
    "Plot 10: swarmplot distribution of average annual pay within a specific industry of each county <br>\n",
    "5182\tNAICS 5182 Computing infrastructure providers, data processing, web hosting, and related services<br>\n",
    "51821\tNAICS 51821 Computing infrastructure providers, data processing, web hosting, and related services<br>\n",
    "518210\tNAICS 518210 Computing infrastructure providers, data processing, web hosting, and related services<br>"
   ]
  },
  {
   "cell_type": "code",
   "execution_count": 347,
   "id": "611f1159",
   "metadata": {},
   "outputs": [],
   "source": [
    "#a = Employment_Wages.loc[Employment_Wages['industry_code'] == '5182']\n",
    "#b = Employment_Wages.loc[Employment_Wages['industry_code'] == '51821']\n",
    "#c = Employment_Wages.loc[Employment_Wages['industry_code'] == '518210']"
   ]
  },
  {
   "cell_type": "code",
   "execution_count": 346,
   "id": "91866773",
   "metadata": {},
   "outputs": [
    {
     "data": {
      "image/png": "[encoded data removed]",
      "text/plain": [
       "<Figure size 432x288 with 1 Axes>"
      ]
     },
     "metadata": {
      "needs_background": "light"
     },
     "output_type": "display_data"
    }
   ],
   "source": [
    "filtered_df=Employment_Wages[Employment_Wages['industry_code'].isin(['5182','51821','518210'])]\n",
    "sns.swarmplot(x='area_fips', y='avg_annual_pay', data=filtered_df)\n",
    "plt.title('avg_annual_pay by county')\n",
    "plt.show()"
   ]
  },
  {
   "cell_type": "code",
   "execution_count": 1,
   "id": "3aadd91d",
   "metadata": {},
   "outputs": [
    {
     "name": "stdout",
     "output_type": "stream",
     "text": [
      "Interactive namespace is empty.\n",
      "Once deleted, variables cannot be recovered. Proceed (y/[n])? n\n",
      "Nothing done.\n"
     ]
    }
   ],
   "source": [
    "%whos\n",
    "%reset"
   ]
  },
  {
   "cell_type": "code",
   "execution_count": null,
   "id": "e774dbbe",
   "metadata": {},
   "outputs": [],
   "source": []
  }
 ],
 "metadata": {
  "kernelspec": {
   "display_name": "Python 3 (ipykernel)",
   "language": "python",
   "name": "python3"
  },
  "language_info": {
   "codemirror_mode": {
    "name": "ipython",
    "version": 3
   },
   "file_extension": ".py",
   "mimetype": "text/x-python",
   "name": "python",
   "nbconvert_exporter": "python",
   "pygments_lexer": "ipython3",
   "version": "3.9.12"
  }
 },
 "nbformat": 4,
 "nbformat_minor": 5
}
